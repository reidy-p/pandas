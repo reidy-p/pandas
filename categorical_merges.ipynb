{
 "cells": [
  {
   "cell_type": "code",
   "execution_count": 11,
   "metadata": {},
   "outputs": [],
   "source": [
    "import pandas as pd\n",
    "from pandas.core.dtypes.common import is_dtype_equal\n",
    "from pandas.api.types import CategoricalDtype"
   ]
  },
  {
   "cell_type": "markdown",
   "metadata": {},
   "source": [
    "# Compatible Categorical Columns"
   ]
  },
  {
   "cell_type": "code",
   "execution_count": 24,
   "metadata": {},
   "outputs": [
    {
     "name": "stdout",
     "output_type": "stream",
     "text": [
      "True\n",
      "   A\n",
      "0  a\n",
      "1  b\n",
      "2  c\n"
     ]
    },
    {
     "data": {
      "text/plain": [
       "A    category\n",
       "dtype: object"
      ]
     },
     "execution_count": 24,
     "metadata": {},
     "output_type": "execute_result"
    }
   ],
   "source": [
    "# Same categories not ordered\n",
    "cat1 = pd.Categorical(list('abc'), ordered=False)\n",
    "cat2 = pd.Categorical(list('bac'), ordered=False)\n",
    "\n",
    "a = pd.DataFrame({'A': cat1})\n",
    "b = pd.DataFrame({'A': cat2})\n",
    "print(is_dtype_equal(cat1, cat2))\n",
    "print(a.merge(b, on='A', how='inner'))\n",
    "a.merge(b, on='A').dtypes"
   ]
  },
  {
   "cell_type": "code",
   "execution_count": 25,
   "metadata": {
    "scrolled": true
   },
   "outputs": [
    {
     "name": "stdout",
     "output_type": "stream",
     "text": [
      "True\n",
      "   A\n",
      "0  a\n",
      "1  b\n",
      "2  c\n"
     ]
    },
    {
     "data": {
      "text/plain": [
       "A    category\n",
       "dtype: object"
      ]
     },
     "execution_count": 25,
     "metadata": {},
     "output_type": "execute_result"
    }
   ],
   "source": [
    "# Same categories ordered (with same ordering)\n",
    "cat1 = pd.Categorical(list('abc'), ordered=True, categories=['a', 'b', 'c'])\n",
    "cat2 = pd.Categorical(list('bac'), ordered=True, categories=['a', 'b', 'c'])\n",
    "\n",
    "a = pd.DataFrame({'A': cat1})\n",
    "b = pd.DataFrame({'A': cat2})\n",
    "print(is_dtype_equal(cat1, cat2))\n",
    "print(a.merge(b, on='A', how='inner'))\n",
    "a.merge(b, on='A').dtypes"
   ]
  },
  {
   "cell_type": "code",
   "execution_count": 29,
   "metadata": {},
   "outputs": [
    {
     "name": "stdout",
     "output_type": "stream",
     "text": [
      "True\n",
      "   A\n",
      "0  a\n",
      "1  b\n",
      "2  c\n"
     ]
    },
    {
     "data": {
      "text/plain": [
       "A    category\n",
       "dtype: object"
      ]
     },
     "execution_count": 29,
     "metadata": {},
     "output_type": "execute_result"
    }
   ],
   "source": [
    "# Categories are not exactly the same (subset)\n",
    "cat1 = pd.Categorical(list('abcd'), ordered=True, categories=['a', 'b', 'c'])\n",
    "cat2 = pd.Categorical(list('bac'), ordered=True, categories=['a', 'b', 'c'])\n",
    "\n",
    "a = pd.DataFrame({'A': cat1})\n",
    "b = pd.DataFrame({'A': cat2})\n",
    "print(is_dtype_equal(cat1, cat2))\n",
    "print(a.merge(b, on='A', how='right'))\n",
    "a.merge(b, on='A', how='outer').dtypes"
   ]
  },
  {
   "cell_type": "markdown",
   "metadata": {},
   "source": [
    "# Incompatible\n",
    "What if the categorical columns are not exactly equal? This seems to cast to object in most cases. Should we raise in all cases?"
   ]
  },
  {
   "cell_type": "code",
   "execution_count": 34,
   "metadata": {},
   "outputs": [
    {
     "name": "stdout",
     "output_type": "stream",
     "text": [
      "False\n",
      "   A\n",
      "0  a\n",
      "1  b\n",
      "2  c\n"
     ]
    },
    {
     "data": {
      "text/plain": [
       "A    object\n",
       "dtype: object"
      ]
     },
     "execution_count": 34,
     "metadata": {},
     "output_type": "execute_result"
    }
   ],
   "source": [
    "# Same categories ordered (without same ordering)\n",
    "cat1 = pd.Categorical(list('abc'), ordered=True, categories=['c', 'b', 'a'])\n",
    "cat2 = pd.Categorical(list('bac'), ordered=True, categories=['a', 'b', 'c'])\n",
    "\n",
    "a = pd.DataFrame({'A': cat1})\n",
    "b = pd.DataFrame({'A': cat2})\n",
    "print(is_dtype_equal(cat1, cat2))\n",
    "print(a.merge(b, on='A', how='inner'))\n",
    "a.merge(b, on='A').dtypes"
   ]
  },
  {
   "cell_type": "code",
   "execution_count": 33,
   "metadata": {
    "scrolled": true
   },
   "outputs": [
    {
     "name": "stdout",
     "output_type": "stream",
     "text": [
      "False\n",
      "   A\n",
      "0  a\n",
      "1  b\n",
      "2  c\n"
     ]
    },
    {
     "data": {
      "text/plain": [
       "A    object\n",
       "dtype: object"
      ]
     },
     "execution_count": 33,
     "metadata": {},
     "output_type": "execute_result"
    }
   ],
   "source": [
    "# One ordered, one not ordered\n",
    "cat1 = pd.Categorical(list('abc'), ordered=False)\n",
    "cat2 = pd.Categorical(list('bac'), ordered=True, categories=['a', 'b', 'c'])\n",
    "\n",
    "a = pd.DataFrame({'A': cat1})\n",
    "b = pd.DataFrame({'A': cat2})\n",
    "print(is_dtype_equal(cat1, cat2))\n",
    "print(a.merge(b, on='A', how='inner'))\n",
    "a.merge(b, on='A', how='outer').dtypes"
   ]
  },
  {
   "cell_type": "code",
   "execution_count": 35,
   "metadata": {},
   "outputs": [
    {
     "name": "stdout",
     "output_type": "stream",
     "text": [
      "False\n",
      "   A\n",
      "0  a\n",
      "1  b\n",
      "2  c\n",
      "A    object\n",
      "dtype: object\n",
      "\n",
      "False\n",
      "   A\n",
      "0  a\n",
      "1  b\n",
      "2  c\n",
      "3  d\n"
     ]
    },
    {
     "data": {
      "text/plain": [
       "A    object\n",
       "dtype: object"
      ]
     },
     "execution_count": 35,
     "metadata": {},
     "output_type": "execute_result"
    }
   ],
   "source": [
    "# Categories are not exactly the same (subset)\n",
    "cat1 = pd.Categorical(list('abcd'), ordered=False)\n",
    "cat2 = pd.Categorical(list('bac'), ordered=False)\n",
    "\n",
    "a = pd.DataFrame({'A': cat1})\n",
    "b = pd.DataFrame({'A': cat2})\n",
    "print(is_dtype_equal(cat1, cat2))\n",
    "print(a.merge(b, on='A', how='inner'))\n",
    "print(a.merge(b, on='A', how='outer').dtypes)\n",
    "print()\n",
    "\n",
    "cat1 = pd.Categorical(list('abcd'), ordered=True, categories=['a', 'b', 'c', 'd'])\n",
    "cat2 = pd.Categorical(list('bac'), ordered=True, categories=['a', 'b', 'c'])\n",
    "\n",
    "a = pd.DataFrame({'A': cat1})\n",
    "b = pd.DataFrame({'A': cat2})\n",
    "print(is_dtype_equal(cat1, cat2))\n",
    "print(a.merge(b, on='A', how='outer'))\n",
    "a.merge(b, on='A', how='outer').dtypes"
   ]
  },
  {
   "cell_type": "code",
   "execution_count": 40,
   "metadata": {},
   "outputs": [
    {
     "name": "stdout",
     "output_type": "stream",
     "text": [
      "False\n",
      "   A\n",
      "0  g\n",
      "1  h\n",
      "2  i\n",
      "3  b\n",
      "4  a\n",
      "5  c\n",
      "A    object\n",
      "dtype: object\n",
      "\n",
      "False\n",
      "Empty DataFrame\n",
      "Columns: [A]\n",
      "Index: []\n"
     ]
    },
    {
     "data": {
      "text/plain": [
       "A    object\n",
       "dtype: object"
      ]
     },
     "execution_count": 40,
     "metadata": {},
     "output_type": "execute_result"
    }
   ],
   "source": [
    "# Categories are not exactly the same (completely different)\n",
    "cat1 = pd.Categorical(list('ghi'), ordered=False)\n",
    "cat2 = pd.Categorical(list('bac'), ordered=False)\n",
    "\n",
    "a = pd.DataFrame({'A': cat1})\n",
    "b = pd.DataFrame({'A': cat2})\n",
    "print(is_dtype_equal(cat1, cat2))\n",
    "print(a.merge(b, on='A', how='outer'))\n",
    "print(a.merge(b, on='A').dtypes)\n",
    "print()\n",
    "\n",
    "cat1 = pd.Categorical(list('ghi'), ordered=True)\n",
    "cat2 = pd.Categorical(list('bac'), ordered=True)\n",
    "\n",
    "a = pd.DataFrame({'A': cat1})\n",
    "b = pd.DataFrame({'A': cat2})\n",
    "print(is_dtype_equal(cat1, cat2))\n",
    "print(a.merge(b, on='A', how='inner'))\n",
    "a.merge(b, on='A').dtypes"
   ]
  },
  {
   "cell_type": "code",
   "execution_count": 44,
   "metadata": {},
   "outputs": [
    {
     "name": "stdout",
     "output_type": "stream",
     "text": [
      "False\n",
      "   A\n",
      "0  0\n",
      "1  1\n",
      "2  2\n",
      "3  b\n",
      "4  a\n",
      "5  c\n"
     ]
    },
    {
     "data": {
      "text/plain": [
       "A    object\n",
       "dtype: object"
      ]
     },
     "execution_count": 44,
     "metadata": {},
     "output_type": "execute_result"
    }
   ],
   "source": [
    "cat1 = pd.Categorical([0, 1, 2], ordered=False)\n",
    "cat2 = pd.Categorical(list('bac'), ordered=False)\n",
    "\n",
    "a = pd.DataFrame({'A': cat1})\n",
    "b = pd.DataFrame({'A': cat2})\n",
    "print(is_dtype_equal(cat1, cat2))\n",
    "print(a.merge(b, on='A', how='outer'))\n",
    "a.merge(b, on='A', how='outer').dtypes"
   ]
  },
  {
   "cell_type": "markdown",
   "metadata": {},
   "source": [
    "* np.nan"
   ]
  }
 ],
 "metadata": {
  "kernelspec": {
   "display_name": "Python 3",
   "language": "python",
   "name": "python3"
  },
  "language_info": {
   "codemirror_mode": {
    "name": "ipython",
    "version": 3
   },
   "file_extension": ".py",
   "mimetype": "text/x-python",
   "name": "python",
   "nbconvert_exporter": "python",
   "pygments_lexer": "ipython3",
   "version": "3.6.3"
  }
 },
 "nbformat": 4,
 "nbformat_minor": 2
}
