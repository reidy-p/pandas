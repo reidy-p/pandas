{
 "cells": [
  {
   "cell_type": "code",
   "execution_count": 39,
   "metadata": {
    "scrolled": true
   },
   "outputs": [],
   "source": [
    "import pandas as pd"
   ]
  },
  {
   "cell_type": "code",
   "execution_count": 55,
   "metadata": {
    "scrolled": true
   },
   "outputs": [
    {
     "data": {
      "text/plain": [
       "1990-01-01    1.1\n",
       "1990-01-02    1.1\n",
       "1990-01-03    1.1\n",
       "1990-01-04    1.1\n",
       "1990-01-05    1.1\n",
       "1990-01-08    1.2\n",
       "1990-01-09    1.2\n",
       "1990-01-10    1.2\n",
       "1990-01-11    1.2\n",
       "1990-01-12    1.2\n",
       "1990-01-15    1.3\n",
       "1990-01-16    1.3\n",
       "1990-01-17    1.3\n",
       "1990-01-18    1.3\n",
       "1990-01-19    1.3\n",
       "1990-01-22    1.4\n",
       "1990-01-23    1.4\n",
       "1990-01-24    1.4\n",
       "1990-01-25    1.4\n",
       "1990-01-26    1.4\n",
       "1990-01-29    1.5\n",
       "Freq: B, dtype: float64"
      ]
     },
     "execution_count": 55,
     "metadata": {},
     "output_type": "execute_result"
    }
   ],
   "source": [
    "ts = pd.Series([1.1, 1.2, 1.3, 1.4, 1.5], index=pd.period_range('1/1/1990', freq='W-MON', periods=5))            \n",
    "    \n",
    "result = ts.resample('B', convention='end').ffill()\n",
    "result"
   ]
  },
  {
   "cell_type": "code",
   "execution_count": 56,
   "metadata": {},
   "outputs": [
    {
     "name": "stderr",
     "output_type": "stream",
     "text": [
      "/Users/paul/Desktop/pandas-reidy-p/pandas/core/indexes/datetimes.py:581: UserWarning: Discarding nonzero nanoseconds in conversion\n",
      "  index = _generate_regular_range(start, end, periods, offset)\n"
     ]
    },
    {
     "data": {
      "text/plain": [
       "1990-01-01    NaN\n",
       "1990-01-02    1.1\n",
       "1990-01-03    1.1\n",
       "1990-01-04    1.1\n",
       "1990-01-05    1.1\n",
       "1990-01-08    1.1\n",
       "1990-01-09    1.2\n",
       "1990-01-10    1.2\n",
       "1990-01-11    1.2\n",
       "1990-01-12    1.2\n",
       "1990-01-15    1.2\n",
       "1990-01-16    1.3\n",
       "1990-01-17    1.3\n",
       "1990-01-18    1.3\n",
       "1990-01-19    1.3\n",
       "1990-01-22    1.3\n",
       "1990-01-23    1.4\n",
       "1990-01-24    1.4\n",
       "1990-01-25    1.4\n",
       "1990-01-26    1.4\n",
       "1990-01-29    1.4\n",
       "Freq: B, dtype: float64"
      ]
     },
     "execution_count": 56,
     "metadata": {},
     "output_type": "execute_result"
    }
   ],
   "source": [
    "expected = result.to_timestamp('B', how='end').asfreq('B', 'ffill').to_period()\n",
    "expected"
   ]
  },
  {
   "cell_type": "code",
   "execution_count": 50,
   "metadata": {
    "scrolled": true
   },
   "outputs": [
    {
     "name": "stderr",
     "output_type": "stream",
     "text": [
      "/Users/paul/Desktop/pandas-reidy-p/pandas/core/indexes/datetimes.py:581: UserWarning: Discarding nonzero nanoseconds in conversion\n",
      "  index = _generate_regular_range(start, end, periods, offset)\n"
     ]
    },
    {
     "data": {
      "text/plain": [
       "1990-01-01 23:59:59.999999    NaN\n",
       "1990-01-02 23:59:59.999999    1.1\n",
       "1990-01-03 23:59:59.999999    1.1\n",
       "1990-01-04 23:59:59.999999    1.1\n",
       "1990-01-05 23:59:59.999999    1.1\n",
       "1990-01-08 23:59:59.999999    1.1\n",
       "1990-01-09 23:59:59.999999    1.2\n",
       "1990-01-10 23:59:59.999999    1.2\n",
       "1990-01-11 23:59:59.999999    1.2\n",
       "1990-01-12 23:59:59.999999    1.2\n",
       "1990-01-15 23:59:59.999999    1.2\n",
       "1990-01-16 23:59:59.999999    1.3\n",
       "1990-01-17 23:59:59.999999    1.3\n",
       "1990-01-18 23:59:59.999999    1.3\n",
       "1990-01-19 23:59:59.999999    1.3\n",
       "1990-01-22 23:59:59.999999    1.3\n",
       "1990-01-23 23:59:59.999999    1.4\n",
       "1990-01-24 23:59:59.999999    1.4\n",
       "1990-01-25 23:59:59.999999    1.4\n",
       "1990-01-26 23:59:59.999999    1.4\n",
       "1990-01-29 23:59:59.999999    1.4\n",
       "Freq: B, dtype: float64"
      ]
     },
     "execution_count": 50,
     "metadata": {},
     "output_type": "execute_result"
    }
   ],
   "source": [
    "ts = pd.Series([1.1, 1.2, 1.3, 1.4, 1.5], index=pd.period_range('1/1/1990', freq='W-MON', periods=5))\n",
    "ts.to_timestamp('B', how='end').asfreq('B', 'ffill')"
   ]
  },
  {
   "cell_type": "code",
   "execution_count": 48,
   "metadata": {
    "scrolled": false
   },
   "outputs": [
    {
     "data": {
      "text/plain": [
       "1990-01-01    1.1\n",
       "1990-01-02    1.1\n",
       "1990-01-03    1.1\n",
       "1990-01-04    1.1\n",
       "1990-01-05    1.1\n",
       "1990-01-08    1.2\n",
       "1990-01-09    1.2\n",
       "1990-01-10    1.2\n",
       "1990-01-11    1.2\n",
       "1990-01-12    1.2\n",
       "1990-01-15    1.3\n",
       "1990-01-16    1.3\n",
       "1990-01-17    1.3\n",
       "1990-01-18    1.3\n",
       "1990-01-19    1.3\n",
       "1990-01-22    1.4\n",
       "1990-01-23    1.4\n",
       "1990-01-24    1.4\n",
       "1990-01-25    1.4\n",
       "1990-01-26    1.4\n",
       "1990-01-29    1.5\n",
       "Freq: B, dtype: float64"
      ]
     },
     "execution_count": 48,
     "metadata": {},
     "output_type": "execute_result"
    }
   ],
   "source": [
    "result = ts.resample('B', convention='end').ffill()\n",
    "result"
   ]
  },
  {
   "cell_type": "markdown",
   "metadata": {},
   "source": []
  },
  {
   "cell_type": "code",
   "execution_count": 2,
   "metadata": {},
   "outputs": [
    {
     "name": "stdout",
     "output_type": "stream",
     "text": [
      "2017-01-01 23:59:59.999999999\n",
      "2017-01-01 23:59:59.999999999\n",
      "2017-01-01 23:59:59.999999999\n",
      "2017-01-01 23:59:59.999999999\n",
      "2017-01-01 23:59:59.999999999\n",
      "2017-01-01 23:59:59.999999999\n"
     ]
    }
   ],
   "source": [
    "p = pd.Period('2017-01-01', 'D')\n",
    "pi = pd.PeriodIndex([p])\n",
    "\n",
    "print(pd.Series(p).dt.end_time[0])\n",
    "print(pd.Series(pi).dt.end_time[0])\n",
    "\n",
    "print(p.end_time)\n",
    "print(pi.end_time[0])\n",
    "\n",
    "print(p.to_timestamp(how='end'))\n",
    "print(pi.to_timestamp(how='end')[0])"
   ]
  },
  {
   "cell_type": "markdown",
   "metadata": {},
   "source": [
    "``end_time`` has .99999 but ``dt.end_time`` does not (on master). I can fix this without causing any major issues in the tests."
   ]
  },
  {
   "cell_type": "code",
   "execution_count": 3,
   "metadata": {
    "scrolled": true
   },
   "outputs": [
    {
     "name": "stdout",
     "output_type": "stream",
     "text": [
      "DatetimeIndex(['2016-12-31 23:59:59.999999999',\n",
      "               '2017-01-01 00:59:59.999999999',\n",
      "               '2017-01-01 01:59:59.999999999'],\n",
      "              dtype='datetime64[ns]', freq='H')\n"
     ]
    },
    {
     "data": {
      "text/plain": [
       "DatetimeIndex(['2016-12-31', '2017-01-01', '2017-01-02'], dtype='datetime64[ns]', freq='D')"
      ]
     },
     "execution_count": 3,
     "metadata": {},
     "output_type": "execute_result"
    }
   ],
   "source": [
    "print(pd.DatetimeIndex(start='2017-01-01', periods=3, freq='H') - pd.Timedelta(1, 'ns'))\n",
    "pd.DatetimeIndex(start='2017-01-01', periods=3, freq='D') - pd.Timedelta(1, 'ns')"
   ]
  },
  {
   "cell_type": "code",
   "execution_count": 4,
   "metadata": {},
   "outputs": [
    {
     "name": "stdout",
     "output_type": "stream",
     "text": [
      "DatetimeIndex(['2017-01-01'], dtype='datetime64[ns]', freq=None)\n",
      "['2017-01-01T23:59:59.999999999']\n",
      "\n",
      "DatetimeIndex(['2017-01-01'], dtype='datetime64[ns]', freq=None)\n",
      "0   2017-01-01\n",
      "dtype: datetime64[ns]\n",
      "\n",
      "DatetimeIndex(['2017-01-01'], dtype='datetime64[ns]', freq=None)\n",
      "2017-01-01 23:59:59.999999999\n",
      "0   2017-01-01\n",
      "dtype: datetime64[ns]\n"
     ]
    }
   ],
   "source": [
    "p = pd.Period('20170101', 'D')\n",
    "pi = pd.Index([p])\n",
    "print((pi + 1).to_timestamp(how='start') - pd.Timedelta(1, 'ns'))\n",
    "print(((pi + 1).to_timestamp(how='start') - pd.Timedelta(1, 'ns')).values)\n",
    "print()\n",
    "print(pi.to_timestamp(how='end'))\n",
    "print(pd.Series(pi.to_timestamp(how='end')))\n",
    "print()\n",
    "print(pi.to_timestamp(how='end'))\n",
    "print(pi.end_time[0])\n",
    "print(pd.Series(pi.to_timestamp(how='end', freq='s')))"
   ]
  },
  {
   "cell_type": "code",
   "execution_count": 5,
   "metadata": {},
   "outputs": [
    {
     "name": "stdout",
     "output_type": "stream",
     "text": [
      "2010-08\n",
      "2010-08-31 23:59:59.999999999\n",
      "2010-08-31 23:59:59.999999999\n"
     ]
    }
   ],
   "source": [
    "s = pd.Series(pd.to_datetime(['2010-08-05']))\n",
    "sp = s.dt.to_period('M')\n",
    "print(sp.iloc[0])\n",
    "print(sp.iloc[0].end_time)\n",
    "print(sp.dt.end_time.iloc[0])"
   ]
  },
  {
   "cell_type": "markdown",
   "metadata": {},
   "source": [
    "Do we want ``to_timestamp(how='end')`` to have .9999999? Changing this causes some major issues in the tests that assume that the time part will be 00:00:00:"
   ]
  },
  {
   "cell_type": "code",
   "execution_count": 6,
   "metadata": {},
   "outputs": [
    {
     "name": "stdout",
     "output_type": "stream",
     "text": [
      "DatetimeIndex(['2011-02-28', 'NaT', '2011-03-31'], dtype='datetime64[ns]', name='idx', freq=None)\n",
      "DatetimeIndex(['2011-02-28', 'NaT', '2011-03-31'], dtype='datetime64[ns]', name='idx', freq=None)\n",
      "2011-02-28 00:00:00\n",
      "2011-02-28 23:59:59.999999999\n",
      "['2011-02-28T23:59:59.999999999' 'NaT' '2011-03-31T23:59:59.999999999']\n"
     ]
    }
   ],
   "source": [
    "idx = pd.PeriodIndex(['2011-01', 'NaT', '2011-02'], freq='2M', name='idx')\n",
    "expected = pd.DatetimeIndex(['2011-02-28', 'NaT', '2011-03-31'], name='idx')\n",
    "result = idx.to_timestamp(how='E')\n",
    "print(expected)\n",
    "print(result)\n",
    "print(expected[0])\n",
    "print(result[0])\n",
    "print(result.values)"
   ]
  },
  {
   "cell_type": "code",
   "execution_count": 7,
   "metadata": {},
   "outputs": [
    {
     "name": "stdout",
     "output_type": "stream",
     "text": [
      "DatetimeIndex(['2011-01-31', '2011-02-28', '2011-03-31'], dtype='datetime64[ns]', freq='M')\n",
      "DatetimeIndex(['2011-01-31', '2011-02-28', '2011-03-31'], dtype='datetime64[ns]', freq=None)\n",
      "2011-01-31 23:59:59.999999999\n",
      "2011-01-31 00:00:00\n"
     ]
    }
   ],
   "source": [
    "pi = pd.PeriodIndex(['2011-01', '2011-02', '2011-03'], freq='M')\n",
    "exp = pd.DatetimeIndex(['2011-01-31', '2011-02-28', '2011-03-31'])\n",
    "print(pi.astype('datetime64[ns]', how='end'))\n",
    "print(exp)\n",
    "print(pi.astype('datetime64[ns]', how='end')[0])\n",
    "print(exp[0])"
   ]
  },
  {
   "cell_type": "code",
   "execution_count": 8,
   "metadata": {},
   "outputs": [
    {
     "name": "stdout",
     "output_type": "stream",
     "text": [
      "0   2016-02-01 00:00\n",
      "1   2016-02-01 00:00\n",
      "2   2016-03-01 00:00\n",
      "3   2016-04-01 00:00\n",
      "4   2016-05-01 00:00\n",
      "dtype: object\n",
      "2016-02-01 00:59:59.999999999\n",
      "2016-02-01 00:59:59.999999999\n",
      "0   2016-02-01 00:59:59.999999999\n",
      "1   2016-02-01 00:59:59.999999999\n",
      "2   2016-03-01 00:59:59.999999999\n",
      "3   2016-04-01 00:59:59.999999999\n",
      "4   2016-05-01 00:59:59.999999999\n",
      "dtype: datetime64[ns]\n",
      "0   2016-02-01 00:59:59.999999999\n",
      "1   2016-02-01 00:59:59.999999999\n",
      "2   2016-03-01 00:59:59.999999999\n",
      "3   2016-04-01 00:59:59.999999999\n",
      "4   2016-05-01 00:59:59.999999999\n",
      "dtype: datetime64[ns]\n"
     ]
    }
   ],
   "source": [
    "s = pd.Series([pd.Period(freq='M', year=2016, month=2),\n",
    "                pd.Period(freq='M', year=2016, month=2), \n",
    "                pd.Period(freq='M', year=2016, month=3), \n",
    "                pd.Period(freq='M', year=2016, month=4), \n",
    "                pd.Period(freq='M', year=2016, month=5)])\n",
    "s = pd.Series([pd.Period(freq='H', year=2016, month=2),\n",
    "                pd.Period(freq='H', year=2016, month=2), \n",
    "                pd.Period(freq='H', year=2016, month=3), \n",
    "                pd.Period(freq='H', year=2016, month=4), \n",
    "                pd.Period(freq='H', year=2016, month=5)])\n",
    "print(s)\n",
    "print(s.dt.end_time.iloc[0])\n",
    "print(s.iloc[0].end_time)\n",
    "print(s.dt.end_time)\n",
    "print(s.apply(lambda x: x.end_time))"
   ]
  },
  {
   "cell_type": "code",
   "execution_count": 9,
   "metadata": {},
   "outputs": [],
   "source": [
    "# print(pd.PeriodIndex(freq='H', start='2016-01-01', periods=3))\n",
    "# print(pd.PeriodIndex(freq='H', start='2016-01-01', periods=3).end_time)\n",
    "# print(pd.PeriodIndex(freq='H', start='2016-01-01', periods=3).end_time[0])\n",
    "\n",
    "# print(pd.PeriodIndex(freq='s', start='2016-01-01', periods=3).end_time)\n",
    "# print(pd.PeriodIndex(freq='s', start='2016-01-01', periods=3).end_time[0])\n",
    "\n",
    "# expected_index = pd.date_range(freq='s', start='2016-01-01', periods=3)\n",
    "# print(expected_index[0])\n",
    "# print(expected_index.to_period().end_time)\n",
    "# print(expected_index.to_period().end_time[0])\n",
    "\n",
    "# print(pd.PeriodIndex(freq='H', start='2016-01-01', end='2016-05-31').end_time)\n",
    "# print(pd.date_range('2016-01-01', end='2016-05-31 01:00:00', freq='H', closed='right').shift(-1, 'ns'))\n",
    "# print(pd.Period('2016-01', freq='M').dt.end_time)"
   ]
  }
 ],
 "metadata": {
  "anaconda-cloud": {},
  "kernelspec": {
   "display_name": "Python [default]",
   "language": "python",
   "name": "python3"
  },
  "language_info": {
   "codemirror_mode": {
    "name": "ipython",
    "version": 3
   },
   "file_extension": ".py",
   "mimetype": "text/x-python",
   "name": "python",
   "nbconvert_exporter": "python",
   "pygments_lexer": "ipython3",
   "version": "3.6.3"
  }
 },
 "nbformat": 4,
 "nbformat_minor": 2
}
